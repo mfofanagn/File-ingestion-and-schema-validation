{
  "nbformat": 4,
  "nbformat_minor": 0,
  "metadata": {
    "colab": {
      "name": "Test_Ingestion.ipynb",
      "provenance": [],
      "collapsed_sections": [],
      "authorship_tag": "ABX9TyMBMGrQHEPSfz0mnvYUypVG",
      "include_colab_link": true
    },
    "kernelspec": {
      "name": "python3",
      "display_name": "Python 3"
    },
    "language_info": {
      "name": "python"
    },
    "accelerator": "TPU"
  },
  "cells": [
    {
      "cell_type": "markdown",
      "metadata": {
        "id": "view-in-github",
        "colab_type": "text"
      },
      "source": [
        "<a href=\"https://colab.research.google.com/github/mfofanagn/File-ingestion-and-schema-validation/blob/main/Test_Ingestion.ipynb\" target=\"_parent\"><img src=\"https://colab.research.google.com/assets/colab-badge.svg\" alt=\"Open In Colab\"/></a>"
      ]
    },
    {
      "cell_type": "code",
      "metadata": {
        "colab": {
          "base_uri": "https://localhost:8080/"
        },
        "id": "K0_0QYzp7OFI",
        "outputId": "7b66f366-a568-49ac-ab81-48a5c264fc4c"
      },
      "source": [
        "! pip install kaggle"
      ],
      "execution_count": null,
      "outputs": [
        {
          "output_type": "stream",
          "text": [
            "Requirement already satisfied: kaggle in /usr/local/lib/python3.7/dist-packages (1.5.12)\n",
            "Requirement already satisfied: tqdm in /usr/local/lib/python3.7/dist-packages (from kaggle) (4.62.0)\n",
            "Requirement already satisfied: certifi in /usr/local/lib/python3.7/dist-packages (from kaggle) (2021.5.30)\n",
            "Requirement already satisfied: six>=1.10 in /usr/local/lib/python3.7/dist-packages (from kaggle) (1.15.0)\n",
            "Requirement already satisfied: urllib3 in /usr/local/lib/python3.7/dist-packages (from kaggle) (1.24.3)\n",
            "Requirement already satisfied: python-dateutil in /usr/local/lib/python3.7/dist-packages (from kaggle) (2.8.2)\n",
            "Requirement already satisfied: requests in /usr/local/lib/python3.7/dist-packages (from kaggle) (2.23.0)\n",
            "Requirement already satisfied: python-slugify in /usr/local/lib/python3.7/dist-packages (from kaggle) (5.0.2)\n",
            "Requirement already satisfied: text-unidecode>=1.3 in /usr/local/lib/python3.7/dist-packages (from python-slugify->kaggle) (1.3)\n",
            "Requirement already satisfied: chardet<4,>=3.0.2 in /usr/local/lib/python3.7/dist-packages (from requests->kaggle) (3.0.4)\n",
            "Requirement already satisfied: idna<3,>=2.5 in /usr/local/lib/python3.7/dist-packages (from requests->kaggle) (2.10)\n"
          ],
          "name": "stdout"
        }
      ]
    },
    {
      "cell_type": "code",
      "metadata": {
        "id": "XD8snEP17255"
      },
      "source": [
        "! mkdir ~/.kaggle"
      ],
      "execution_count": null,
      "outputs": []
    },
    {
      "cell_type": "code",
      "metadata": {
        "id": "xBbEhgXZ78Ve"
      },
      "source": [
        "! cp kaggle.json ~/.kaggle/"
      ],
      "execution_count": null,
      "outputs": []
    },
    {
      "cell_type": "code",
      "metadata": {
        "id": "Kh3anSZg8DV7"
      },
      "source": [
        "! chmod 600 ~/.kaggle/kaggle.json"
      ],
      "execution_count": null,
      "outputs": []
    },
    {
      "cell_type": "markdown",
      "metadata": {
        "id": "BZZzGWwtLdLg"
      },
      "source": [
        "# Nouvelle section"
      ]
    },
    {
      "cell_type": "markdown",
      "metadata": {
        "id": "dbdLP7XALdml"
      },
      "source": [
        "# Nouvelle section"
      ]
    },
    {
      "cell_type": "code",
      "metadata": {
        "colab": {
          "base_uri": "https://localhost:8080/"
        },
        "id": "J7FqanuY8PXm",
        "outputId": "f4d4def5-fa11-4c46-9871-66df9582c8b8"
      },
      "source": [
        " #! kaggle datasets download vinitasilaparasetty/skincancer-clean\n",
        "! kaggle datasets download ananaymital/us-used-cars-dataset"
      ],
      "execution_count": null,
      "outputs": [
        {
          "output_type": "stream",
          "text": [
            "Warning: Your Kaggle API key is readable by other users on this system! To fix this, you can run 'chmod 600 /root/.kaggle/kaggle.json'\n",
            "Downloading us-used-cars-dataset.zip to /content\n",
            "100% 2.13G/2.13G [00:26<00:00, 43.3MB/s]\n",
            "100% 2.13G/2.13G [00:26<00:00, 86.9MB/s]\n"
          ],
          "name": "stdout"
        }
      ]
    },
    {
      "cell_type": "code",
      "metadata": {
        "colab": {
          "base_uri": "https://localhost:8080/"
        },
        "id": "JLPTjF6WCHYI",
        "outputId": "a2a92667-50f2-4b46-fae5-527167dacccc"
      },
      "source": [
        "% cd /content/\n",
        "!unzip \\*.zip"
      ],
      "execution_count": null,
      "outputs": [
        {
          "output_type": "stream",
          "text": [
            "/content\n",
            "Archive:  us-used-cars-dataset.zip\n",
            "  inflating: used_cars_data.csv      \n"
          ],
          "name": "stdout"
        }
      ]
    },
    {
      "cell_type": "code",
      "metadata": {
        "colab": {
          "base_uri": "https://localhost:8080/"
        },
        "id": "pXMYYPTY8ceO",
        "outputId": "0b10f1b6-36da-4e80-e722-fa22f2979722"
      },
      "source": [
        "%%writefile testutility.py\n",
        "import logging\n",
        "import os\n",
        "import subprocess\n",
        "import yaml\n",
        "import pandas as pd\n",
        "import datetime \n",
        "import gc\n",
        "import re\n",
        "\n",
        "\n",
        "################\n",
        "# File Reading #\n",
        "################\n",
        "\n",
        "def read_config_file(filepath):\n",
        "    with open(filepath, 'r') as stream:\n",
        "        try:\n",
        "            return yaml.safe_load(stream)\n",
        "        except yaml.YAMLError as exc:\n",
        "            logging.error(exc)\n",
        "\n",
        "\n",
        "def replacer(string, char):\n",
        "    pattern = char + '{2,}'\n",
        "    string = re.sub(pattern, char, string) \n",
        "    return string\n",
        "\n",
        "def col_header_val(df,table_config):\n",
        "    '''\n",
        "    replace whitespaces in the column\n",
        "    and standardized column names\n",
        "    '''\n",
        "    df.columns = df.columns.str.lower()\n",
        "    df.columns = df.columns.str.replace('[^\\w]','_',regex=True)\n",
        "    df.columns = list(map(lambda x: x.strip('_'), list(df.columns)))\n",
        "    df.columns = list(map(lambda x: replacer(x,'_'), list(df.columns)))\n",
        "    expected_col = list(map(lambda x: x.lower(),  table_config['columns']))\n",
        "    expected_col.sort()\n",
        "    df.columns =list(map(lambda x: x.lower(), list(df.columns)))\n",
        "    df = df.reindex(sorted(df.columns), axis=1)\n",
        "    if len(df.columns) == len(expected_col) and list(expected_col)  == list(df.columns):\n",
        "        print(\"column name and column length validation passed\")\n",
        "        return 1\n",
        "    else:\n",
        "        print(\"column name and column length validation failed\")\n",
        "        mismatched_columns_file = list(set(df.columns).difference(expected_col))\n",
        "        print(\"Following File columns are not in the YAML file\",mismatched_columns_file)\n",
        "        missing_YAML_file = list(set(expected_col).difference(df.columns))\n",
        "        print(\"Following YAML columns are not in the file uploaded\",missing_YAML_file)\n",
        "        logging.info(f'df columns: {df.columns}')\n",
        "        logging.info(f'expected columns: {expected_col}')\n",
        "        return 0"
      ],
      "execution_count": null,
      "outputs": [
        {
          "output_type": "stream",
          "text": [
            "Overwriting testutility.py\n"
          ],
          "name": "stdout"
        }
      ]
    },
    {
      "cell_type": "code",
      "metadata": {
        "id": "dNkCzR9gCFNI"
      },
      "source": [
        ""
      ],
      "execution_count": null,
      "outputs": []
    },
    {
      "cell_type": "code",
      "metadata": {
        "colab": {
          "base_uri": "https://localhost:8080/"
        },
        "id": "cEzlZDQz-uem",
        "outputId": "40e377d7-2b93-4e65-f3a4-7881c1c0245a"
      },
      "source": [
        "%%writefile file.yaml\n",
        "file_type: csv\n",
        "dataset_name: housing\n",
        "file_name: california_housing_train\n",
        "table_name: housing\n",
        "inbound_delimiter: \",\"\n",
        "outbound_delimiter: \"|\"\n",
        "skip_leading_rows: 1\n",
        "columns: \n",
        "    - longitude\n",
        "    - latitude\n",
        "    - housing_median_age\n",
        "    - total_rooms\n",
        "    - total_bedrooms\n",
        "    - population\n",
        "    - households\n",
        "    - median_income\n",
        "    - median_house_value"
      ],
      "execution_count": null,
      "outputs": [
        {
          "output_type": "stream",
          "text": [
            "Overwriting file.yaml\n"
          ],
          "name": "stdout"
        }
      ]
    },
    {
      "cell_type": "code",
      "metadata": {
        "id": "1uRo4q2K-1HE"
      },
      "source": [
        "# Read config file\n",
        "import testutility as util\n",
        "config_data = util.read_config_file(\"/content/file.yaml\")"
      ],
      "execution_count": null,
      "outputs": []
    },
    {
      "cell_type": "code",
      "metadata": {
        "colab": {
          "base_uri": "https://localhost:8080/",
          "height": 35
        },
        "id": "_Oa4nwGi-4sA",
        "outputId": "4df78de9-bac5-4784-e972-80cda5ad383f"
      },
      "source": [
        "config_data['inbound_delimiter']"
      ],
      "execution_count": null,
      "outputs": [
        {
          "output_type": "execute_result",
          "data": {
            "application/vnd.google.colaboratory.intrinsic+json": {
              "type": "string"
            },
            "text/plain": [
              "','"
            ]
          },
          "metadata": {},
          "execution_count": 47
        }
      ]
    },
    {
      "cell_type": "markdown",
      "metadata": {
        "id": "H_lWQDcyy559"
      },
      "source": [
        ""
      ]
    },
    {
      "cell_type": "code",
      "metadata": {
        "colab": {
          "base_uri": "https://localhost:8080/"
        },
        "id": "aAjL10LM-9dh",
        "outputId": "e23b069c-a13d-48f3-9b67-e22196786e62"
      },
      "source": [
        "#inspecting data of config file\n",
        "config_data"
      ],
      "execution_count": null,
      "outputs": [
        {
          "output_type": "execute_result",
          "data": {
            "text/plain": [
              "{'columns': ['longitude',\n",
              "  'latitude',\n",
              "  'housing_median_age',\n",
              "  'total_rooms',\n",
              "  'total_bedrooms',\n",
              "  'population',\n",
              "  'households',\n",
              "  'median_income',\n",
              "  'median_house_value'],\n",
              " 'dataset_name': 'housing',\n",
              " 'file_name': 'california_housing_train',\n",
              " 'file_type': 'csv',\n",
              " 'inbound_delimiter': ',',\n",
              " 'outbound_delimiter': '|',\n",
              " 'skip_leading_rows': 1,\n",
              " 'table_name': 'housing'}"
            ]
          },
          "metadata": {},
          "execution_count": 48
        }
      ]
    },
    {
      "cell_type": "code",
      "metadata": {
        "colab": {
          "base_uri": "https://localhost:8080/"
        },
        "id": "3eRh_GM-_ALl",
        "outputId": "7e8bf75f-2376-4f17-8738-4a9816d83ea9"
      },
      "source": [
        "import os\n",
        "\n",
        "print(os.getcwd())\n",
        "\n",
        "# Normal reading process of the file\n",
        "import pandas as pd\n",
        "#import dask.dataframe as dd\n",
        "\n",
        "#%% time\n",
        "import time\n",
        "start_time = time.time()\n",
        "\n",
        "df_sample = pd.read_csv(\"/content/sample_data/california_housing_train.csv\",delimiter=',') \n",
        "#df_sample = pd.read_csv(\"/content/used_cars_data.csv\",delimiter=',') \n",
        "\n",
        "print(\"--- %s seconds ---\" % (time.time() - start_time))\n",
        "\n",
        "df_sample.head()\n",
        "df_sample.info()"
      ],
      "execution_count": null,
      "outputs": [
        {
          "output_type": "stream",
          "text": [
            "/content\n",
            "--- 0.06366443634033203 seconds ---\n",
            "<class 'pandas.core.frame.DataFrame'>\n",
            "RangeIndex: 17000 entries, 0 to 16999\n",
            "Data columns (total 9 columns):\n",
            " #   Column              Non-Null Count  Dtype  \n",
            "---  ------              --------------  -----  \n",
            " 0   longitude           17000 non-null  float64\n",
            " 1   latitude            17000 non-null  float64\n",
            " 2   housing_median_age  17000 non-null  float64\n",
            " 3   total_rooms         17000 non-null  float64\n",
            " 4   total_bedrooms      17000 non-null  float64\n",
            " 5   population          17000 non-null  float64\n",
            " 6   households          17000 non-null  float64\n",
            " 7   median_income       17000 non-null  float64\n",
            " 8   median_house_value  17000 non-null  float64\n",
            "dtypes: float64(9)\n",
            "memory usage: 1.2 MB\n"
          ],
          "name": "stdout"
        }
      ]
    },
    {
      "cell_type": "markdown",
      "metadata": {
        "id": "RX31vJUGymQY"
      },
      "source": [
        ""
      ]
    },
    {
      "cell_type": "code",
      "metadata": {
        "colab": {
          "base_uri": "https://localhost:8080/"
        },
        "id": "Np8hBmITY-Yx",
        "outputId": "9e659ab7-75f1-4bd5-9602-f2fed12682f9"
      },
      "source": [
        "! pip install 'fsspec>=0.3.3'"
      ],
      "execution_count": null,
      "outputs": [
        {
          "output_type": "stream",
          "text": [
            "Collecting fsspec>=0.3.3\n",
            "  Downloading fsspec-2021.7.0-py3-none-any.whl (118 kB)\n",
            "\u001b[?25l\r\u001b[K     |██▊                             | 10 kB 25.0 MB/s eta 0:00:01\r\u001b[K     |█████▌                          | 20 kB 32.6 MB/s eta 0:00:01\r\u001b[K     |████████▎                       | 30 kB 14.3 MB/s eta 0:00:01\r\u001b[K     |███████████                     | 40 kB 10.2 MB/s eta 0:00:01\r\u001b[K     |█████████████▉                  | 51 kB 5.4 MB/s eta 0:00:01\r\u001b[K     |████████████████▋               | 61 kB 6.0 MB/s eta 0:00:01\r\u001b[K     |███████████████████▍            | 71 kB 5.7 MB/s eta 0:00:01\r\u001b[K     |██████████████████████▏         | 81 kB 6.4 MB/s eta 0:00:01\r\u001b[K     |█████████████████████████       | 92 kB 6.6 MB/s eta 0:00:01\r\u001b[K     |███████████████████████████▊    | 102 kB 5.3 MB/s eta 0:00:01\r\u001b[K     |██████████████████████████████▌ | 112 kB 5.3 MB/s eta 0:00:01\r\u001b[K     |████████████████████████████████| 118 kB 5.3 MB/s \n",
            "\u001b[?25hInstalling collected packages: fsspec\n",
            "Successfully installed fsspec-2021.7.0\n"
          ],
          "name": "stdout"
        }
      ]
    },
    {
      "cell_type": "markdown",
      "metadata": {
        "id": "XuLXSwaaysBY"
      },
      "source": [
        "** Reading with Dask **"
      ]
    },
    {
      "cell_type": "code",
      "metadata": {
        "colab": {
          "base_uri": "https://localhost:8080/",
          "height": 492
        },
        "id": "Uc68uxF3V1Jz",
        "outputId": "0b38e7b6-935a-4f40-d336-cf482e24f16f"
      },
      "source": [
        "import dask.dataframe as dd\n",
        "\n",
        "#%%time\n",
        "import time\n",
        "start_time = time.time()\n",
        "\n",
        "#df_sample = dd.read_csv(\"/content/sample_data/california_housing_train.csv\",delimiter=',')\n",
        "\n",
        "df_sample = dd.read_csv(\"/content/used_cars_data.csv\",delimiter=',', dtype={'bed': 'object','cabin': 'object'})\n",
        "\n",
        "    \n",
        "\n",
        "print(\"--- %s seconds ---\" % (time.time() - start_time))\n",
        "\n",
        "df_sample.head()\n",
        "#df_sample.info()"
      ],
      "execution_count": null,
      "outputs": [
        {
          "output_type": "stream",
          "text": [
            "--- 0.333573579788208 seconds ---\n"
          ],
          "name": "stdout"
        },
        {
          "output_type": "execute_result",
          "data": {
            "text/html": [
              "<div>\n",
              "<style scoped>\n",
              "    .dataframe tbody tr th:only-of-type {\n",
              "        vertical-align: middle;\n",
              "    }\n",
              "\n",
              "    .dataframe tbody tr th {\n",
              "        vertical-align: top;\n",
              "    }\n",
              "\n",
              "    .dataframe thead th {\n",
              "        text-align: right;\n",
              "    }\n",
              "</style>\n",
              "<table border=\"1\" class=\"dataframe\">\n",
              "  <thead>\n",
              "    <tr style=\"text-align: right;\">\n",
              "      <th></th>\n",
              "      <th>vin</th>\n",
              "      <th>back_legroom</th>\n",
              "      <th>bed</th>\n",
              "      <th>bed_height</th>\n",
              "      <th>bed_length</th>\n",
              "      <th>body_type</th>\n",
              "      <th>cabin</th>\n",
              "      <th>city</th>\n",
              "      <th>city_fuel_economy</th>\n",
              "      <th>combine_fuel_economy</th>\n",
              "      <th>daysonmarket</th>\n",
              "      <th>dealer_zip</th>\n",
              "      <th>description</th>\n",
              "      <th>engine_cylinders</th>\n",
              "      <th>engine_displacement</th>\n",
              "      <th>engine_type</th>\n",
              "      <th>exterior_color</th>\n",
              "      <th>fleet</th>\n",
              "      <th>frame_damaged</th>\n",
              "      <th>franchise_dealer</th>\n",
              "      <th>franchise_make</th>\n",
              "      <th>front_legroom</th>\n",
              "      <th>fuel_tank_volume</th>\n",
              "      <th>fuel_type</th>\n",
              "      <th>has_accidents</th>\n",
              "      <th>height</th>\n",
              "      <th>highway_fuel_economy</th>\n",
              "      <th>horsepower</th>\n",
              "      <th>interior_color</th>\n",
              "      <th>isCab</th>\n",
              "      <th>is_certified</th>\n",
              "      <th>is_cpo</th>\n",
              "      <th>is_new</th>\n",
              "      <th>is_oemcpo</th>\n",
              "      <th>latitude</th>\n",
              "      <th>length</th>\n",
              "      <th>listed_date</th>\n",
              "      <th>listing_color</th>\n",
              "      <th>listing_id</th>\n",
              "      <th>longitude</th>\n",
              "      <th>main_picture_url</th>\n",
              "      <th>major_options</th>\n",
              "      <th>make_name</th>\n",
              "      <th>maximum_seating</th>\n",
              "      <th>mileage</th>\n",
              "      <th>model_name</th>\n",
              "      <th>owner_count</th>\n",
              "      <th>power</th>\n",
              "      <th>price</th>\n",
              "      <th>salvage</th>\n",
              "      <th>savings_amount</th>\n",
              "      <th>seller_rating</th>\n",
              "      <th>sp_id</th>\n",
              "      <th>sp_name</th>\n",
              "      <th>theft_title</th>\n",
              "      <th>torque</th>\n",
              "      <th>transmission</th>\n",
              "      <th>transmission_display</th>\n",
              "      <th>trimId</th>\n",
              "      <th>trim_name</th>\n",
              "      <th>vehicle_damage_category</th>\n",
              "      <th>wheel_system</th>\n",
              "      <th>wheel_system_display</th>\n",
              "      <th>wheelbase</th>\n",
              "      <th>width</th>\n",
              "      <th>year</th>\n",
              "    </tr>\n",
              "  </thead>\n",
              "  <tbody>\n",
              "    <tr>\n",
              "      <th>0</th>\n",
              "      <td>ZACNJABB5KPJ92081</td>\n",
              "      <td>35.1 in</td>\n",
              "      <td>NaN</td>\n",
              "      <td>NaN</td>\n",
              "      <td>NaN</td>\n",
              "      <td>SUV / Crossover</td>\n",
              "      <td>NaN</td>\n",
              "      <td>Bayamon</td>\n",
              "      <td>NaN</td>\n",
              "      <td>NaN</td>\n",
              "      <td>522</td>\n",
              "      <td>960</td>\n",
              "      <td>[!@@Additional Info@@!]Engine: 2.4L I4 ZERO EV...</td>\n",
              "      <td>I4</td>\n",
              "      <td>1300.0</td>\n",
              "      <td>I4</td>\n",
              "      <td>Solar Yellow</td>\n",
              "      <td>NaN</td>\n",
              "      <td>NaN</td>\n",
              "      <td>True</td>\n",
              "      <td>Jeep</td>\n",
              "      <td>41.2 in</td>\n",
              "      <td>12.7 gal</td>\n",
              "      <td>Gasoline</td>\n",
              "      <td>NaN</td>\n",
              "      <td>66.5 in</td>\n",
              "      <td>NaN</td>\n",
              "      <td>177.0</td>\n",
              "      <td>Black</td>\n",
              "      <td>NaN</td>\n",
              "      <td>NaN</td>\n",
              "      <td>NaN</td>\n",
              "      <td>True</td>\n",
              "      <td>NaN</td>\n",
              "      <td>18.3988</td>\n",
              "      <td>166.6 in</td>\n",
              "      <td>2019-04-06</td>\n",
              "      <td>YELLOW</td>\n",
              "      <td>237132766</td>\n",
              "      <td>-66.1582</td>\n",
              "      <td>https://static.cargurus.com/images/forsale/202...</td>\n",
              "      <td>['Quick Order Package']</td>\n",
              "      <td>Jeep</td>\n",
              "      <td>5 seats</td>\n",
              "      <td>7.0</td>\n",
              "      <td>Renegade</td>\n",
              "      <td>NaN</td>\n",
              "      <td>177 hp @ 5,750 RPM</td>\n",
              "      <td>23141.0</td>\n",
              "      <td>NaN</td>\n",
              "      <td>0</td>\n",
              "      <td>2.8</td>\n",
              "      <td>370599</td>\n",
              "      <td>Flagship Chrysler</td>\n",
              "      <td>NaN</td>\n",
              "      <td>200 lb-ft @ 1,750 RPM</td>\n",
              "      <td>A</td>\n",
              "      <td>9-Speed Automatic Overdrive</td>\n",
              "      <td>t83804</td>\n",
              "      <td>Latitude FWD</td>\n",
              "      <td>NaN</td>\n",
              "      <td>FWD</td>\n",
              "      <td>Front-Wheel Drive</td>\n",
              "      <td>101.2 in</td>\n",
              "      <td>79.6 in</td>\n",
              "      <td>2019</td>\n",
              "    </tr>\n",
              "    <tr>\n",
              "      <th>1</th>\n",
              "      <td>SALCJ2FX1LH858117</td>\n",
              "      <td>38.1 in</td>\n",
              "      <td>NaN</td>\n",
              "      <td>NaN</td>\n",
              "      <td>NaN</td>\n",
              "      <td>SUV / Crossover</td>\n",
              "      <td>NaN</td>\n",
              "      <td>San Juan</td>\n",
              "      <td>NaN</td>\n",
              "      <td>NaN</td>\n",
              "      <td>207</td>\n",
              "      <td>922</td>\n",
              "      <td>[!@@Additional Info@@!]Keyless Entry,Ebony Mor...</td>\n",
              "      <td>I4</td>\n",
              "      <td>2000.0</td>\n",
              "      <td>I4</td>\n",
              "      <td>Narvik Black</td>\n",
              "      <td>NaN</td>\n",
              "      <td>NaN</td>\n",
              "      <td>True</td>\n",
              "      <td>Land Rover</td>\n",
              "      <td>39.1 in</td>\n",
              "      <td>17.7 gal</td>\n",
              "      <td>Gasoline</td>\n",
              "      <td>NaN</td>\n",
              "      <td>68 in</td>\n",
              "      <td>NaN</td>\n",
              "      <td>246.0</td>\n",
              "      <td>Black (Ebony)</td>\n",
              "      <td>NaN</td>\n",
              "      <td>NaN</td>\n",
              "      <td>NaN</td>\n",
              "      <td>True</td>\n",
              "      <td>NaN</td>\n",
              "      <td>18.4439</td>\n",
              "      <td>181 in</td>\n",
              "      <td>2020-02-15</td>\n",
              "      <td>BLACK</td>\n",
              "      <td>265946296</td>\n",
              "      <td>-66.0785</td>\n",
              "      <td>https://static.cargurus.com/images/forsale/202...</td>\n",
              "      <td>['Adaptive Cruise Control']</td>\n",
              "      <td>Land Rover</td>\n",
              "      <td>7 seats</td>\n",
              "      <td>8.0</td>\n",
              "      <td>Discovery Sport</td>\n",
              "      <td>NaN</td>\n",
              "      <td>246 hp @ 5,500 RPM</td>\n",
              "      <td>46500.0</td>\n",
              "      <td>NaN</td>\n",
              "      <td>0</td>\n",
              "      <td>3.0</td>\n",
              "      <td>389227</td>\n",
              "      <td>Land Rover San Juan</td>\n",
              "      <td>NaN</td>\n",
              "      <td>269 lb-ft @ 1,400 RPM</td>\n",
              "      <td>A</td>\n",
              "      <td>9-Speed Automatic Overdrive</td>\n",
              "      <td>t86759</td>\n",
              "      <td>S AWD</td>\n",
              "      <td>NaN</td>\n",
              "      <td>AWD</td>\n",
              "      <td>All-Wheel Drive</td>\n",
              "      <td>107.9 in</td>\n",
              "      <td>85.6 in</td>\n",
              "      <td>2020</td>\n",
              "    </tr>\n",
              "    <tr>\n",
              "      <th>2</th>\n",
              "      <td>JF1VA2M67G9829723</td>\n",
              "      <td>35.4 in</td>\n",
              "      <td>NaN</td>\n",
              "      <td>NaN</td>\n",
              "      <td>NaN</td>\n",
              "      <td>Sedan</td>\n",
              "      <td>NaN</td>\n",
              "      <td>Guaynabo</td>\n",
              "      <td>17.0</td>\n",
              "      <td>NaN</td>\n",
              "      <td>1233</td>\n",
              "      <td>969</td>\n",
              "      <td>NaN</td>\n",
              "      <td>H4</td>\n",
              "      <td>2500.0</td>\n",
              "      <td>H4</td>\n",
              "      <td>None</td>\n",
              "      <td>False</td>\n",
              "      <td>False</td>\n",
              "      <td>True</td>\n",
              "      <td>FIAT</td>\n",
              "      <td>43.3 in</td>\n",
              "      <td>15.9 gal</td>\n",
              "      <td>Gasoline</td>\n",
              "      <td>False</td>\n",
              "      <td>58.1 in</td>\n",
              "      <td>23.0</td>\n",
              "      <td>305.0</td>\n",
              "      <td>None</td>\n",
              "      <td>False</td>\n",
              "      <td>NaN</td>\n",
              "      <td>NaN</td>\n",
              "      <td>False</td>\n",
              "      <td>NaN</td>\n",
              "      <td>18.3467</td>\n",
              "      <td>180.9 in</td>\n",
              "      <td>2017-04-25</td>\n",
              "      <td>UNKNOWN</td>\n",
              "      <td>173473508</td>\n",
              "      <td>-66.1098</td>\n",
              "      <td>NaN</td>\n",
              "      <td>['Alloy Wheels', 'Bluetooth', 'Backup Camera',...</td>\n",
              "      <td>Subaru</td>\n",
              "      <td>5 seats</td>\n",
              "      <td>NaN</td>\n",
              "      <td>WRX STI</td>\n",
              "      <td>3.0</td>\n",
              "      <td>305 hp @ 6,000 RPM</td>\n",
              "      <td>46995.0</td>\n",
              "      <td>False</td>\n",
              "      <td>0</td>\n",
              "      <td>NaN</td>\n",
              "      <td>370467</td>\n",
              "      <td>FIAT de San Juan</td>\n",
              "      <td>False</td>\n",
              "      <td>290 lb-ft @ 4,000 RPM</td>\n",
              "      <td>M</td>\n",
              "      <td>6-Speed Manual</td>\n",
              "      <td>t58994</td>\n",
              "      <td>Base</td>\n",
              "      <td>NaN</td>\n",
              "      <td>AWD</td>\n",
              "      <td>All-Wheel Drive</td>\n",
              "      <td>104.3 in</td>\n",
              "      <td>78.9 in</td>\n",
              "      <td>2016</td>\n",
              "    </tr>\n",
              "    <tr>\n",
              "      <th>3</th>\n",
              "      <td>SALRR2RV0L2433391</td>\n",
              "      <td>37.6 in</td>\n",
              "      <td>NaN</td>\n",
              "      <td>NaN</td>\n",
              "      <td>NaN</td>\n",
              "      <td>SUV / Crossover</td>\n",
              "      <td>NaN</td>\n",
              "      <td>San Juan</td>\n",
              "      <td>NaN</td>\n",
              "      <td>NaN</td>\n",
              "      <td>196</td>\n",
              "      <td>922</td>\n",
              "      <td>[!@@Additional Info@@!]Fog Lights,7 Seat Packa...</td>\n",
              "      <td>V6</td>\n",
              "      <td>3000.0</td>\n",
              "      <td>V6</td>\n",
              "      <td>Eiger Gray</td>\n",
              "      <td>NaN</td>\n",
              "      <td>NaN</td>\n",
              "      <td>True</td>\n",
              "      <td>Land Rover</td>\n",
              "      <td>39 in</td>\n",
              "      <td>23.5 gal</td>\n",
              "      <td>Gasoline</td>\n",
              "      <td>NaN</td>\n",
              "      <td>73 in</td>\n",
              "      <td>NaN</td>\n",
              "      <td>340.0</td>\n",
              "      <td>Gray (Ebony/Ebony/Ebony)</td>\n",
              "      <td>NaN</td>\n",
              "      <td>NaN</td>\n",
              "      <td>NaN</td>\n",
              "      <td>True</td>\n",
              "      <td>NaN</td>\n",
              "      <td>18.4439</td>\n",
              "      <td>195.1 in</td>\n",
              "      <td>2020-02-26</td>\n",
              "      <td>GRAY</td>\n",
              "      <td>266911050</td>\n",
              "      <td>-66.0785</td>\n",
              "      <td>https://static.cargurus.com/images/forsale/202...</td>\n",
              "      <td>NaN</td>\n",
              "      <td>Land Rover</td>\n",
              "      <td>7 seats</td>\n",
              "      <td>11.0</td>\n",
              "      <td>Discovery</td>\n",
              "      <td>NaN</td>\n",
              "      <td>340 hp @ 6,500 RPM</td>\n",
              "      <td>67430.0</td>\n",
              "      <td>NaN</td>\n",
              "      <td>0</td>\n",
              "      <td>3.0</td>\n",
              "      <td>389227</td>\n",
              "      <td>Land Rover San Juan</td>\n",
              "      <td>NaN</td>\n",
              "      <td>332 lb-ft @ 3,500 RPM</td>\n",
              "      <td>A</td>\n",
              "      <td>8-Speed Automatic Overdrive</td>\n",
              "      <td>t86074</td>\n",
              "      <td>V6 HSE AWD</td>\n",
              "      <td>NaN</td>\n",
              "      <td>AWD</td>\n",
              "      <td>All-Wheel Drive</td>\n",
              "      <td>115 in</td>\n",
              "      <td>87.4 in</td>\n",
              "      <td>2020</td>\n",
              "    </tr>\n",
              "    <tr>\n",
              "      <th>4</th>\n",
              "      <td>SALCJ2FXXLH862327</td>\n",
              "      <td>38.1 in</td>\n",
              "      <td>NaN</td>\n",
              "      <td>NaN</td>\n",
              "      <td>NaN</td>\n",
              "      <td>SUV / Crossover</td>\n",
              "      <td>NaN</td>\n",
              "      <td>San Juan</td>\n",
              "      <td>NaN</td>\n",
              "      <td>NaN</td>\n",
              "      <td>137</td>\n",
              "      <td>922</td>\n",
              "      <td>[!@@Additional Info@@!]Keyless Entry,Ebony Mor...</td>\n",
              "      <td>I4</td>\n",
              "      <td>2000.0</td>\n",
              "      <td>I4</td>\n",
              "      <td>Narvik Black</td>\n",
              "      <td>NaN</td>\n",
              "      <td>NaN</td>\n",
              "      <td>True</td>\n",
              "      <td>Land Rover</td>\n",
              "      <td>39.1 in</td>\n",
              "      <td>17.7 gal</td>\n",
              "      <td>Gasoline</td>\n",
              "      <td>NaN</td>\n",
              "      <td>68 in</td>\n",
              "      <td>NaN</td>\n",
              "      <td>246.0</td>\n",
              "      <td>Black (Ebony)</td>\n",
              "      <td>NaN</td>\n",
              "      <td>NaN</td>\n",
              "      <td>NaN</td>\n",
              "      <td>True</td>\n",
              "      <td>NaN</td>\n",
              "      <td>18.4439</td>\n",
              "      <td>181 in</td>\n",
              "      <td>2020-04-25</td>\n",
              "      <td>BLACK</td>\n",
              "      <td>270957414</td>\n",
              "      <td>-66.0785</td>\n",
              "      <td>https://static.cargurus.com/images/forsale/202...</td>\n",
              "      <td>['Adaptive Cruise Control']</td>\n",
              "      <td>Land Rover</td>\n",
              "      <td>7 seats</td>\n",
              "      <td>7.0</td>\n",
              "      <td>Discovery Sport</td>\n",
              "      <td>NaN</td>\n",
              "      <td>246 hp @ 5,500 RPM</td>\n",
              "      <td>48880.0</td>\n",
              "      <td>NaN</td>\n",
              "      <td>0</td>\n",
              "      <td>3.0</td>\n",
              "      <td>389227</td>\n",
              "      <td>Land Rover San Juan</td>\n",
              "      <td>NaN</td>\n",
              "      <td>269 lb-ft @ 1,400 RPM</td>\n",
              "      <td>A</td>\n",
              "      <td>9-Speed Automatic Overdrive</td>\n",
              "      <td>t86759</td>\n",
              "      <td>S AWD</td>\n",
              "      <td>NaN</td>\n",
              "      <td>AWD</td>\n",
              "      <td>All-Wheel Drive</td>\n",
              "      <td>107.9 in</td>\n",
              "      <td>85.6 in</td>\n",
              "      <td>2020</td>\n",
              "    </tr>\n",
              "  </tbody>\n",
              "</table>\n",
              "</div>"
            ],
            "text/plain": [
              "                 vin back_legroom  bed  ... wheelbase    width  year\n",
              "0  ZACNJABB5KPJ92081      35.1 in  NaN  ...  101.2 in  79.6 in  2019\n",
              "1  SALCJ2FX1LH858117      38.1 in  NaN  ...  107.9 in  85.6 in  2020\n",
              "2  JF1VA2M67G9829723      35.4 in  NaN  ...  104.3 in  78.9 in  2016\n",
              "3  SALRR2RV0L2433391      37.6 in  NaN  ...    115 in  87.4 in  2020\n",
              "4  SALCJ2FXXLH862327      38.1 in  NaN  ...  107.9 in  85.6 in  2020\n",
              "\n",
              "[5 rows x 66 columns]"
            ]
          },
          "metadata": {},
          "execution_count": 24
        }
      ]
    },
    {
      "cell_type": "code",
      "metadata": {
        "id": "9F3_rzHtY7Xs"
      },
      "source": [
        ""
      ],
      "execution_count": null,
      "outputs": []
    },
    {
      "cell_type": "code",
      "metadata": {
        "colab": {
          "base_uri": "https://localhost:8080/",
          "height": 220
        },
        "id": "CzPZVBWdtNcL",
        "outputId": "fbd27756-de2d-4683-d9dc-85dc0ccc0971"
      },
      "source": [
        "# read the file using config file\n",
        "print(os.getcwd())\n",
        "file_type = config_data['file_type']\n",
        "source_file = \"./sample_data/\" + config_data['file_name'] + f'.{file_type}'\n",
        "#print(\"\",source_file)\n",
        "df = pd.read_csv(source_file,config_data['inbound_delimiter'])\n",
        "df.head()"
      ],
      "execution_count": null,
      "outputs": [
        {
          "output_type": "stream",
          "text": [
            "/content\n"
          ],
          "name": "stdout"
        },
        {
          "output_type": "execute_result",
          "data": {
            "text/html": [
              "<div>\n",
              "<style scoped>\n",
              "    .dataframe tbody tr th:only-of-type {\n",
              "        vertical-align: middle;\n",
              "    }\n",
              "\n",
              "    .dataframe tbody tr th {\n",
              "        vertical-align: top;\n",
              "    }\n",
              "\n",
              "    .dataframe thead th {\n",
              "        text-align: right;\n",
              "    }\n",
              "</style>\n",
              "<table border=\"1\" class=\"dataframe\">\n",
              "  <thead>\n",
              "    <tr style=\"text-align: right;\">\n",
              "      <th></th>\n",
              "      <th>longitude</th>\n",
              "      <th>latitude</th>\n",
              "      <th>housing_median_age</th>\n",
              "      <th>total_rooms</th>\n",
              "      <th>total_bedrooms</th>\n",
              "      <th>population</th>\n",
              "      <th>households</th>\n",
              "      <th>median_income</th>\n",
              "      <th>median_house_value</th>\n",
              "    </tr>\n",
              "  </thead>\n",
              "  <tbody>\n",
              "    <tr>\n",
              "      <th>0</th>\n",
              "      <td>-114.31</td>\n",
              "      <td>34.19</td>\n",
              "      <td>15.0</td>\n",
              "      <td>5612.0</td>\n",
              "      <td>1283.0</td>\n",
              "      <td>1015.0</td>\n",
              "      <td>472.0</td>\n",
              "      <td>1.4936</td>\n",
              "      <td>66900.0</td>\n",
              "    </tr>\n",
              "    <tr>\n",
              "      <th>1</th>\n",
              "      <td>-114.47</td>\n",
              "      <td>34.40</td>\n",
              "      <td>19.0</td>\n",
              "      <td>7650.0</td>\n",
              "      <td>1901.0</td>\n",
              "      <td>1129.0</td>\n",
              "      <td>463.0</td>\n",
              "      <td>1.8200</td>\n",
              "      <td>80100.0</td>\n",
              "    </tr>\n",
              "    <tr>\n",
              "      <th>2</th>\n",
              "      <td>-114.56</td>\n",
              "      <td>33.69</td>\n",
              "      <td>17.0</td>\n",
              "      <td>720.0</td>\n",
              "      <td>174.0</td>\n",
              "      <td>333.0</td>\n",
              "      <td>117.0</td>\n",
              "      <td>1.6509</td>\n",
              "      <td>85700.0</td>\n",
              "    </tr>\n",
              "    <tr>\n",
              "      <th>3</th>\n",
              "      <td>-114.57</td>\n",
              "      <td>33.64</td>\n",
              "      <td>14.0</td>\n",
              "      <td>1501.0</td>\n",
              "      <td>337.0</td>\n",
              "      <td>515.0</td>\n",
              "      <td>226.0</td>\n",
              "      <td>3.1917</td>\n",
              "      <td>73400.0</td>\n",
              "    </tr>\n",
              "    <tr>\n",
              "      <th>4</th>\n",
              "      <td>-114.57</td>\n",
              "      <td>33.57</td>\n",
              "      <td>20.0</td>\n",
              "      <td>1454.0</td>\n",
              "      <td>326.0</td>\n",
              "      <td>624.0</td>\n",
              "      <td>262.0</td>\n",
              "      <td>1.9250</td>\n",
              "      <td>65500.0</td>\n",
              "    </tr>\n",
              "  </tbody>\n",
              "</table>\n",
              "</div>"
            ],
            "text/plain": [
              "   longitude  latitude  ...  median_income  median_house_value\n",
              "0    -114.31     34.19  ...         1.4936             66900.0\n",
              "1    -114.47     34.40  ...         1.8200             80100.0\n",
              "2    -114.56     33.69  ...         1.6509             85700.0\n",
              "3    -114.57     33.64  ...         3.1917             73400.0\n",
              "4    -114.57     33.57  ...         1.9250             65500.0\n",
              "\n",
              "[5 rows x 9 columns]"
            ]
          },
          "metadata": {},
          "execution_count": 50
        }
      ]
    },
    {
      "cell_type": "code",
      "metadata": {
        "colab": {
          "base_uri": "https://localhost:8080/"
        },
        "id": "K4SKByXAw3E8",
        "outputId": "e747f906-e025-481d-ae81-fdf098505d03"
      },
      "source": [
        "#validate the header of the file\n",
        "util.col_header_val(df,config_data)"
      ],
      "execution_count": null,
      "outputs": [
        {
          "output_type": "stream",
          "text": [
            "column name and column length validation passed\n"
          ],
          "name": "stdout"
        },
        {
          "output_type": "execute_result",
          "data": {
            "text/plain": [
              "1"
            ]
          },
          "metadata": {},
          "execution_count": 51
        }
      ]
    },
    {
      "cell_type": "code",
      "metadata": {
        "colab": {
          "base_uri": "https://localhost:8080/"
        },
        "id": "hQPZOvACxnHa",
        "outputId": "b4a30502-2901-417a-c6dc-58bca2af611b"
      },
      "source": [
        "print(\"columns of files are:\" ,df.columns)\n",
        "print(\"columns of YAML are:\" ,config_data['columns'])"
      ],
      "execution_count": null,
      "outputs": [
        {
          "output_type": "stream",
          "text": [
            "columns of files are: Index(['longitude', 'latitude', 'housing_median_age', 'total_rooms',\n",
            "       'total_bedrooms', 'population', 'households', 'median_income',\n",
            "       'median_house_value'],\n",
            "      dtype='object')\n",
            "columns of YAML are: ['longitude', 'latitude', 'housing_median_age', 'total_rooms', 'total_bedrooms', 'population', 'households', 'median_income', 'median_house_value']\n"
          ],
          "name": "stdout"
        }
      ]
    },
    {
      "cell_type": "code",
      "metadata": {
        "colab": {
          "base_uri": "https://localhost:8080/"
        },
        "id": "3PY8Uk8yxwPu",
        "outputId": "62a6e6d7-2a26-43d8-dfaa-c180a89bb685"
      },
      "source": [
        "if util.col_header_val(df,config_data)==0:\n",
        "    print(\"validation failed\")\n",
        "    # write code to reject the file\n",
        "else:\n",
        "    print(\"col validation passed\")\n",
        "    # write the code to perform further action\n",
        "    # in the pipleine"
      ],
      "execution_count": null,
      "outputs": [
        {
          "output_type": "stream",
          "text": [
            "column name and column length validation passed\n",
            "col validation passed\n"
          ],
          "name": "stdout"
        }
      ]
    },
    {
      "cell_type": "markdown",
      "metadata": {
        "id": "2O7kLf0UeNHh"
      },
      "source": [
        "**Write the file in pipe separated text file (|) in gz format.**"
      ]
    },
    {
      "cell_type": "code",
      "metadata": {
        "id": "wONdS94-xzm5",
        "colab": {
          "base_uri": "https://localhost:8080/"
        },
        "outputId": "a8c6f069-7ad2-45ed-cfb0-fd2f7d1e34cd"
      },
      "source": [
        "import codecs as codec\n",
        "df_sample.to_csv(r'california_housing_train_pipe.csv', sep = '|', index=False) \n",
        "\n",
        "df_sample.info()\n",
        "df_sample.describe()\n",
        "df_sample.shape\n",
        "\n",
        "#write dataframe df to the outputfile with pipe delimited\n",
        "\n",
        "import gzip\n",
        "import csv\n",
        "\n",
        "f=gzip.open(\"california_housing_train.csv.gz\", \"wt\")\n",
        "to_write =  open('california_housing_train_pipe.csv', 'rt') \n",
        "\n",
        "csv_w=csv.writer(f)\n",
        "\n",
        "\n",
        "\n",
        "for row in to_write :\n",
        "    csv_w.writerow(codec.encode(row))\n",
        "f.close()\n",
        "to_write.close()"
      ],
      "execution_count": null,
      "outputs": [
        {
          "output_type": "stream",
          "text": [
            "<class 'pandas.core.frame.DataFrame'>\n",
            "RangeIndex: 17000 entries, 0 to 16999\n",
            "Data columns (total 9 columns):\n",
            " #   Column              Non-Null Count  Dtype  \n",
            "---  ------              --------------  -----  \n",
            " 0   longitude           17000 non-null  float64\n",
            " 1   latitude            17000 non-null  float64\n",
            " 2   housing_median_age  17000 non-null  float64\n",
            " 3   total_rooms         17000 non-null  float64\n",
            " 4   total_bedrooms      17000 non-null  float64\n",
            " 5   population          17000 non-null  float64\n",
            " 6   households          17000 non-null  float64\n",
            " 7   median_income       17000 non-null  float64\n",
            " 8   median_house_value  17000 non-null  float64\n",
            "dtypes: float64(9)\n",
            "memory usage: 1.2 MB\n"
          ],
          "name": "stdout"
        }
      ]
    },
    {
      "cell_type": "markdown",
      "metadata": {
        "id": "Anjr8bF7eK06"
      },
      "source": [
        ""
      ]
    }
  ]
}